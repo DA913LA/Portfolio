{
 "cells": [
  {
   "cell_type": "markdown",
   "id": "9251a816",
   "metadata": {},
   "source": [
    "# Customer Data Pre-processing"
   ]
  },
  {
   "cell_type": "markdown",
   "id": "7977adff",
   "metadata": {},
   "source": [
    "**Exercise 1: Read in the provided ACW Data using the CSV library.**"
   ]
  },
  {
   "cell_type": "code",
   "execution_count": null,
   "id": "f5ccc6b7",
   "metadata": {},
   "outputs": [],
   "source": [
    "#Import the CSV module for handling CSV files\n",
    "import csv"
   ]
  },
  {
   "cell_type": "markdown",
   "id": "2c1355e5",
   "metadata": {},
   "source": [
    "**Exercise 2:Convert all flat structures into nested structures.**"
   ]
  },
  {
   "cell_type": "code",
   "execution_count": null,
   "id": "f48e2e5b",
   "metadata": {},
   "outputs": [],
   "source": [
    "#Create empty lists to store the header information\n",
    "header=[]\n",
    "\n",
    "#Create an empty list to store the nested values \n",
    "nested_list=[]\n",
    "\n",
    "# Open the CSV file with context manager for automatic closing\n",
    "with open (\"acw_user_data.csv\", \"r\") as acw_file:\n",
    "    acw_read=csv.DictReader(acw_file)\n",
    "    acw_data=[line for line in acw_read]\n",
    "    \n",
    "# Extract header information from the first line\n",
    "    for line_number, line in enumerate(acw_data):\n",
    "            if line_number==0: \n",
    "                header.extend(line)     \n",
    "                print (header)\n",
    "                \n",
    " # A Function to convert flat data to nested structures   \n",
    "    def convert_to_nested_structures(acw_data):\n",
    "       \n",
    "        \"\"\"\n",
    "        This function converts flat data from a CSV file to a list of dictionaries with nested structures.\n",
    "\n",
    "        It recieves a list of dictionaries containing flat data from each line of the CSV file.\n",
    "\n",
    "        It returns a list of dictionaries with unnested and nested structures like Vehicle, Address, and Credit Card.\n",
    "        \"\"\"\n",
    "        for line in acw_data:\n",
    "            try:\n",
    "               #nest all the keys and values related to vehicle\n",
    "                vehicle_data= {\n",
    "                        \"make\":line['Vehicle Make'],\n",
    "                        'model':line['Vehicle Model'],\n",
    "                        'year':int(line['Vehicle Year']),\n",
    "                        'type':line['Vehicle Type']\n",
    "                }\n",
    "                #nest all the address keys and values\n",
    "                address_data={\n",
    "                    'street':line['Address Street'],\n",
    "                    'city':line['Address City'],\n",
    "                    'postcode':line['Address Postcode']\n",
    "                }\n",
    "                #nest all the credit card keys and values\n",
    "                card_data={\n",
    "                    'start_date':line['Credit Card Start Date'],\n",
    "                    'expiry_date':line['Credit Card Expiry Date'],\n",
    "                    'number':int(line['Credit Card Number']),\n",
    "                    \"cvv\" :int(line['Credit Card CVV']),\n",
    "                    \"iban\":line[\"Bank IBAN\"]\n",
    "                }\n",
    "                #nest the rest of the columns in the data\n",
    "                unnested_columns={\n",
    "                    'first_name':line['First Name'],\n",
    "                    'last_name':line['Last Name'],\n",
    "                    'age':int(line['Age (Years)']),\n",
    "                    'sex':line[\"Sex\"],\n",
    "                    'retired':line[\"Retired\"],\n",
    "                    'marital_status':line['Marital Status'],\n",
    "                    'dependants':line['Dependants'],\n",
    "                    'salary':int(line['Yearly Salary (GBP)']),\n",
    "                    'pension':int(line[ 'Yearly Pension (GBP)']),\n",
    "                    'company':line['Employer Company'],\n",
    "                    'commute_distance':float(line['Distance Commuted to Work (Km)'])\n",
    "                }\n",
    "                #append the nested columns to the \n",
    "                unnested_columns.update({ \n",
    "                            'Vehicle':vehicle_data,\n",
    "                             'Credit card':card_data,\n",
    "                             'Address': address_data\n",
    "                })\n",
    "\n",
    "                nested_list.append(unnested_columns)\n",
    "                \n",
    "            # Handle missing fields, data type issues, unexpected errors\n",
    "            except TypeError as e:\n",
    "                print(f\"Error at line {line_number + 1}: {e} in data format.\")\n",
    "            except ValueError as e:\n",
    "                print(f\"Error at line {line_number + 1}: {e} in data format.\")    \n",
    "            except Exception as e:\n",
    "                print(f\"Unexpected error at line {line_number + 1}: {e}\")    \n",
    "        \n",
    "        #return the list consiting of the nested and unnested columns \n",
    "        return(nested_list)\n",
    "    \n",
    "#Give the function a variable name for easy calling\n",
    "nested_data=convert_to_nested_structures(acw_data)\n",
    "\n",
    "# print the new data of nested and unnested structures\n",
    "print(nested_data)"
   ]
  },
  {
   "cell_type": "markdown",
   "id": "1b6d1853",
   "metadata": {},
   "source": [
    "**Exercise 3: Find empty or whitespace entries in the \"Dependants\" column and print a list where all such error corrections take place.**"
   ]
  },
  {
   "cell_type": "code",
   "execution_count": null,
   "id": "82c93b32",
   "metadata": {},
   "outputs": [],
   "source": [
    "def handle_empty_dependant(data):\n",
    "    \"\"\"\n",
    "    This function finds and replaces empty or whitespace values in the Dependants column\n",
    "\n",
    "    It recieves a list of dictionaries containing flat data from each line of the CSV file.\n",
    "\n",
    "    It returns a list of the indexes with empty strings.\n",
    "    \"\"\"\n",
    "    #initialise a list to store the index of empty or whitespace values\n",
    "    empty_dependent_indexes=[]\n",
    "    for index, line in enumerate(data):\n",
    "        try:\n",
    "            #Check for empty or whitespace values in the dependant column\n",
    "            if line[\"dependants\"] == \"\" or line[\"dependants\"] == \" \":\n",
    "                empty_dependent_indexes.append(index)  # Append the index to the empty dependent list   \n",
    "                \n",
    "                #Replace all empty or white space entries with 0. \n",
    "                #Rationale: All customers have dependants which seems unlikely. \n",
    "                #The assumption is those with empty strings have no dependants\n",
    "                line[\"dependants\"] = 0\n",
    "                \n",
    "        #Check missing dependant column error        \n",
    "        except KeyError:\n",
    "            print(f\"Error at index {index}: 'dependants' column not found.\") \n",
    "            \n",
    "    #returns the list of all the indexes    \n",
    "    return(f\"Problematic rows for dependants:, {empty_dependent_indexes}\")\n",
    "handle_empty_dependant(nested_data)  "
   ]
  },
  {
   "cell_type": "markdown",
   "id": "240a2a29",
   "metadata": {},
   "source": [
    "**Exercise 4: Write all records to a processed.json file in the JSON data format.**"
   ]
  },
  {
   "cell_type": "code",
   "execution_count": null,
   "id": "53a11559",
   "metadata": {},
   "outputs": [],
   "source": [
    "#import JSON module to read and write JSON files\n",
    "import json\n",
    "\n",
    "# Open the processed JSON file in write mode with context manager for automatic closing\n",
    "with open('processed.json', mode='w') as json_file:\n",
    "    try:\n",
    "        json.dump(nested_data, json_file) #write the nested data to the JSON file \n",
    "    \n",
    "    #check for missing file error or any unexpected error\n",
    "    except FileNotFoundError:\n",
    "        print(\"The specified file was not found\")\n",
    "    except Exception as e:\n",
    "        print(f\"An unexpected error occurred: {e}\")"
   ]
  },
  {
   "cell_type": "markdown",
   "id": "cf2e0d7c",
   "metadata": {},
   "source": [
    "**Exercise 5: Create two additional file outputs, retired.json and employed.json,\n",
    "these should contain all retired customers and all employed customers.**"
   ]
  },
  {
   "cell_type": "code",
   "execution_count": null,
   "id": "512a337e",
   "metadata": {},
   "outputs": [],
   "source": [
    "#filters the data  for employed custmers by finding rows that have company names and cummuted distance. \n",
    "employed_data= [line for line in nested_data if line['company'] != 'N/A']\n",
    "print(employed_data)\n",
    "\n",
    "#Open the employed JSON file in write mode with context manager for automatic closing\n",
    "with open('employed.json', mode='w') as employed_file:\n",
    "    try:\n",
    "        json.dump(employed_data, employed_file) #write the employed data to the JSON file \n",
    "    \n",
    "    #check for missing file error or any unexpected error\n",
    "    except FileNotFoundError:\n",
    "        print(\"The specified file was not found\")\n",
    "    except Exception as e:\n",
    "        print(f\"An unexpected error occurred: {e}\")"
   ]
  },
  {
   "cell_type": "code",
   "execution_count": null,
   "id": "f27b51c3",
   "metadata": {},
   "outputs": [],
   "source": [
    "#Filters the data for retired customers by finding rows where retired is True\n",
    "retired_data= [line for line in nested_data if line['retired'] == \"True\" ]\n",
    "print(retired_data)\n",
    "\n",
    "#Open the retired employed JSON file in write mode with context manager for automatic closing\n",
    "with open('retired.json', mode='w') as retired_file:\n",
    "    try:\n",
    "        json.dump(retired_data, retired_file)  #write the retired data to the JSON file \n",
    "    \n",
    "    #check for missing file error or any unexpected error\n",
    "    except FileNotFoundError:\n",
    "        print(\"The specified file was not found\")\n",
    "    except Exception as e:\n",
    "        print(f\"An unexpected error occurred: {e}\")"
   ]
  },
  {
   "cell_type": "markdown",
   "id": "26901027",
   "metadata": {},
   "source": [
    "**Exercise 6: Write a function to flag cards with more than 10 years validity and remove customers with those cards from the CSV data. write the removed cards to a removed_ccard JSON FILE** "
   ]
  },
  {
   "cell_type": "code",
   "execution_count": null,
   "id": "d83736a9",
   "metadata": {},
   "outputs": [],
   "source": [
    "#Import the datetime module to convert values to date format\n",
    "from datetime import datetime\n",
    "\n",
    "def flag_card(data_list):\n",
    "    \"\"\"\n",
    "    This function flags cards with a validity period of more than 10 years.\n",
    "    \n",
    "    It recieves a list of dictionaries representing customer data.\n",
    "    \n",
    "    and returns True if the card has a validity period greater than 10 years, False otherwise.\n",
    "    \"\"\"\n",
    "    for row in data_list:\n",
    "        try:\n",
    "            start_date=datetime.strptime(row['Credit Card Start Date'], '%m/%y').date() #convert the start_data values to date format\n",
    "            expiry_date=datetime.strptime(row['Credit Card Expiry Date'], '%m/%y').date()#convert the expiry_date values to date format\n",
    "\n",
    "            # Calculate the validity period of the card\n",
    "            card_validity = (expiry_date.year-start_date.year)*12 +(expiry_date.month-start_date.month)\n",
    "            \n",
    "            #check if the validity of the card is more than 10 years (120 months)\n",
    "            if card_validity > 120:    \n",
    "                return True #returns true if the card validity is more than 10 years\n",
    "            \n",
    "        # Handle missing fields, data type issues, unexpected errors\n",
    "        except KeyError as e:\n",
    "            print(f\"KeyError: {e} Required key not found in the row.\")\n",
    "        except ValueError as e:\n",
    "            print(f\"ValueError: {e} Error in value format.\")\n",
    "        except TypeError as e:\n",
    "            print(f\"TypeError: {e} Unexpected data type.\")\n",
    "        except Exception as e:\n",
    "            print(f\"Unexpected error: {e}\") \n",
    "    \n",
    "    #returns false if the card validity is less than 10 years\n",
    "    return False"
   ]
  },
  {
   "cell_type": "code",
   "execution_count": null,
   "id": "2934e03d",
   "metadata": {},
   "outputs": [],
   "source": [
    "def remove_card(data):\n",
    "    \"\"\"\n",
    "    This function removes cards with a validity period of more than 10 years.\n",
    "\n",
    "    It recieves a list of dictionaries representing customer data.\n",
    "\n",
    "    It returns a list of dictionaries where the cards are more than 10 years\n",
    "    \"\"\"\n",
    "    #initialize an empty list to store the records where the card validity is more than 10 years\n",
    "    flagged_cards = []\n",
    "\n",
    "    for row in data:\n",
    "        try:\n",
    "            if flag_card([row]): #calls the flag_card function for each row\n",
    "                flagged_cards.append(row) #if True, the row is appended to the flagged_card list\n",
    "            if not flagged_cards:\n",
    "                print('No cards to remove')#If False, it prints No card to remove.\n",
    "    \n",
    "         # Handle missing fields, data type issues, unexpected errors\n",
    "        except KeyError as e:\n",
    "            print(f\"KeyError: {e} Required key not found in the row.\")\n",
    "        except ValueError as e:\n",
    "            print(f\"ValueError: {e} Error in value format.\")\n",
    "        except TypeError as e:\n",
    "            print(f\"TypeError: {e} Unexpected data type.\")\n",
    "        except Exception as e:\n",
    "            print(f\"Unexpected error: {e}\")\n",
    "\n",
    "    #returns a list of all cusstomers with card validity of above 10 years   \n",
    "    return flagged_cards\n",
    "\n",
    "removed_cards = remove_card(acw_data) #call the function for the customer data\n",
    "print(removed_cards)"
   ]
  },
  {
   "cell_type": "code",
   "execution_count": null,
   "id": "cc5d505f",
   "metadata": {},
   "outputs": [],
   "source": [
    "#Open the remove_ccard JSON file in write mode with context manager for automatic closing\n",
    "with open('remove_ccard.json', mode='w') as rccard_file: \n",
    "    try:\n",
    "        json.dump(removed_cards, rccard_file) #write the removed card data to the JSON file\n",
    "    \n",
    "    #check for missing file error or any unexpected error\n",
    "    except FileNotFoundError:\n",
    "        print(\"The specified file was not found\")\n",
    "    except Exception as e:\n",
    "        print(f\"An unexpected error occurred: {e}\")"
   ]
  },
  {
   "cell_type": "markdown",
   "id": "9342a009",
   "metadata": {},
   "source": [
    "**Exercise 7: Create a new data attribute “Salary-Commute\" by calculating the Salary that a customer earns, per mile of their commute. Write the new metric to a commute JSON file.**"
   ]
  },
  {
   "cell_type": "code",
   "execution_count": null,
   "id": "f95fadd5",
   "metadata": {},
   "outputs": [],
   "source": [
    "# Open the JSON file with context manager for automatic closing\n",
    "with open('processed.json', mode='r') as json_file:\n",
    "    try:\n",
    "        processed_data= json.load(json_file)\n",
    "    except FileNotFoundError:\n",
    "        print(\"Error: The specified file was not found.\")\n",
    "    except json.JSONDecodeError as e:\n",
    "        print(f\"Error decoding JSON data: {e}\")\n",
    "    except Exception as e:\n",
    "        print(f\"Unexpected error: {e}\")\n",
    "    \n",
    "    def create_commute (data):\n",
    "        \"\"\"\n",
    "        This function calculate salary per mile based on salary and commute distance.\n",
    "\n",
    "        It recieves a list of dictionaries representing processed data.\n",
    "\n",
    "        and returns a list of calculated salary per mile values.\n",
    "        \"\"\"\n",
    "        \n",
    "        salary_commute=[]\n",
    "        for row in data:\n",
    "            try:    \n",
    "                #Extract salary and commute distance from the row\n",
    "                yearly_salary=row['salary']\n",
    "                commute=row['commute_distance']\n",
    "                \n",
    "                #Calculate salary per mile, handling zero commute distance\n",
    "                if commute<=1:\n",
    "                    salary_per_mile=yearly_salary\n",
    "                else:\n",
    "                    salary_per_mile=yearly_salary/commute\n",
    "                    \n",
    "                 #Round the result and append to the list\n",
    "                salary_commute.append(round(salary_per_mile, 2))\n",
    "                \n",
    "            #Check error for cases where commute distance value is 0\n",
    "            except ZeroDivisionError:\n",
    "                print(\"You cannot divide by Zero\")\n",
    "                \n",
    "        # Return a sorted list of calculated salary per mile values\n",
    "        return sorted(salary_commute)\n",
    "    \n",
    "## Create a list of salary per mile values based on processed data    \n",
    "commute_list=create_commute (processed_data)\n",
    "print(commute_list)"
   ]
  },
  {
   "cell_type": "code",
   "execution_count": null,
   "id": "a09993b0",
   "metadata": {},
   "outputs": [],
   "source": [
    "try:\n",
    "    # Sort processed data based on the calculated salary per mile values\n",
    "    processed_data_sorted = sorted(processed_data, key=lambda row: create_commute([row])[0])\n",
    "except Exception as e:\n",
    "    print(f\"Error sorting data: {e}\")\n",
    "\n",
    "# Print the sorted processed data\n",
    "print(processed_data_sorted)"
   ]
  },
  {
   "cell_type": "code",
   "execution_count": null,
   "id": "8cdee808",
   "metadata": {},
   "outputs": [],
   "source": [
    "#Open the commute JSON file in write mode with context manager for automatic closing\n",
    "with open('commute.json', mode='w') as commute_file:\n",
    "    json.dump(processed_data_sorted, commute_file)#write the commute data to the JSON file"
   ]
  },
  {
   "cell_type": "markdown",
   "id": "ce88a7c6",
   "metadata": {},
   "source": [
    "# Data Visualization"
   ]
  },
  {
   "cell_type": "code",
   "execution_count": null,
   "id": "67cc6be4",
   "metadata": {},
   "outputs": [],
   "source": [
    "# Import the pandas library as pd\n",
    "import pandas as pd\n",
    "#Import the seaborn library as sns\n",
    "import seaborn as sns"
   ]
  },
  {
   "cell_type": "code",
   "execution_count": null,
   "id": "6c08173e",
   "metadata": {},
   "outputs": [],
   "source": [
    "#Read the CSV file and create a dataframe\n",
    "acw_df=pd.read_csv(\"acw_user_data.csv\") "
   ]
  },
  {
   "cell_type": "markdown",
   "id": "565888a1",
   "metadata": {},
   "source": [
    "**Exercise 1a: Calculate the Mean Salary**"
   ]
  },
  {
   "cell_type": "code",
   "execution_count": null,
   "id": "81764614",
   "metadata": {},
   "outputs": [],
   "source": [
    "#Obtain the Data Series for Salary\n",
    "salary=acw_df['Yearly Salary (GBP)']\n",
    "\n",
    "mean_salary=salary.mean() #Calculate the average salary of the customers\n",
    "print(f'The average salary of customers is: {mean_salary}') "
   ]
  },
  {
   "cell_type": "markdown",
   "id": "4218c8df",
   "metadata": {},
   "source": [
    "**Exercise 1b: Calculate the Mean Age**"
   ]
  },
  {
   "cell_type": "code",
   "execution_count": null,
   "id": "47ef27b6",
   "metadata": {},
   "outputs": [],
   "source": [
    "#Obtain the Data Series for Age\n",
    "age=acw_df['Age (Years)']\n",
    "mean_age=age.mean()\n",
    "print(f'The average age of customers is: {mean_age}')"
   ]
  },
  {
   "cell_type": "markdown",
   "id": "051301c6",
   "metadata": {},
   "source": [
    "**Exercice 2a: Univariate plot of Age**"
   ]
  },
  {
   "cell_type": "code",
   "execution_count": null,
   "id": "7ca6125e",
   "metadata": {},
   "outputs": [],
   "source": [
    "#calculate how many bins would be required for a bin_width of 5 using range/bindwith.\n",
    "bin_width=5\n",
    "max_value=max(age)\n",
    "min_value=min(age)\n",
    "#calculate the range \n",
    "range_value=max_value-min_value\n",
    "#calculate the bin\n",
    "bin_value=round(range_value/bin_width)\n",
    "print(bin_value) #15 bins would be required\n",
    "age_plot=sns.displot(x=age, bins=15, label='Age')"
   ]
  },
  {
   "cell_type": "markdown",
   "id": "e917b04a",
   "metadata": {},
   "source": [
    "**Exercise 2b: Univariate plot of Dependents, fixing data errors with seaborn**"
   ]
  },
  {
   "cell_type": "code",
   "execution_count": null,
   "id": "03e717dd",
   "metadata": {},
   "outputs": [],
   "source": [
    "#Fill the Na values with 0 using .fillna()\n",
    "dependants_filled=acw_df['Dependants'].fillna('0')\n",
    "#Make the plot using the filled data series\n",
    "dependant_plot=sns.displot(data=acw_df, x=dependants_filled, label='Dependants')"
   ]
  },
  {
   "cell_type": "markdown",
   "id": "1b01d8ff",
   "metadata": {},
   "source": [
    "**Exercise 2c: Univariate plot Age conditioned on Marital Status**"
   ]
  },
  {
   "cell_type": "code",
   "execution_count": null,
   "id": "8ce7b600",
   "metadata": {},
   "outputs": [],
   "source": [
    "#Intesify the colour scheme to make the plot more visible\n",
    "distinct_palette = sns.color_palette(\"bright\")[:4] #isolate first four colours in the palette\n",
    "\n",
    "#Obtain the data series for marital status\n",
    "marital_status=acw_df['Marital Status']\n",
    "\n",
    "#Plot the age column \n",
    "age_marital_plot=sns.displot(x=age, hue= marital_status, palette=distinct_palette, label='Age and Marital status')"
   ]
  },
  {
   "cell_type": "markdown",
   "id": "0131a86c",
   "metadata": {},
   "source": [
    "**Exercise 3a: Mulivariate plot of Commuted distance against salary.**"
   ]
  },
  {
   "cell_type": "code",
   "execution_count": null,
   "id": "a9a945c8",
   "metadata": {},
   "outputs": [],
   "source": [
    "#create a scatter plot of commuted disatnce and Yearly salary\n",
    "commute_salary_scatterplot=sns.scatterplot(data=acw_df, x='Distance Commuted to Work (Km)', y='Yearly Salary (GBP)', label='Distance comutted vs Salary')"
   ]
  },
  {
   "cell_type": "markdown",
   "id": "f5359c0c",
   "metadata": {},
   "source": [
    "**Exercise 3b: Multivariate plot of Age against Salary**"
   ]
  },
  {
   "cell_type": "code",
   "execution_count": null,
   "id": "43ef821e",
   "metadata": {},
   "outputs": [],
   "source": [
    "age_salary_scatterplot=sns.scatterplot(data=acw_df, x='Age (Years)', y='Yearly Salary (GBP)', label='Age vs Salary')"
   ]
  },
  {
   "cell_type": "markdown",
   "id": "22f6a481",
   "metadata": {},
   "source": [
    "**Exercise 3c: Multivariate plot of Age against Salary, conditioned by dependents**"
   ]
  },
  {
   "cell_type": "code",
   "execution_count": null,
   "id": "28968ac3",
   "metadata": {},
   "outputs": [],
   "source": [
    "age_salary_dependants_scatterplot=sns.scatterplot(data=acw_df, x='Age (Years)', y='Yearly Salary (GBP)', hue=dependants_filled, label='Age vs Salary by no. of Dependants')"
   ]
  },
  {
   "cell_type": "markdown",
   "id": "b4ddc674",
   "metadata": {},
   "source": [
    "**Exercise 4: Save the plots**"
   ]
  },
  {
   "cell_type": "code",
   "execution_count": null,
   "id": "d6f72ee1",
   "metadata": {},
   "outputs": [],
   "source": [
    "#Save all the plots to files\n",
    "try:\n",
    "    age_plot.savefig('./age_plot.png')\n",
    "    dependant_plot.savefig('./dependant_plot.png')\n",
    "    age_marital_plot.savefig('./age_marital_plot.png')\n",
    "    commute_salary_scatterplot.get_figure().savefig('./commute_salary_scatterplot.png')\n",
    "    age_salary_scatterplot.get_figure().savefig(('./age_salary_scatterplot.png'))\n",
    "    age_salary_dependants_scatterplot.get_figure().savefig('./age_salary_dependents_scatterplot.png')\n",
    "except Exception as e:\n",
    "    print(f\"Error saving plots: {e}\")"
   ]
  },
  {
   "cell_type": "code",
   "execution_count": null,
   "id": "32282fb6",
   "metadata": {},
   "outputs": [],
   "source": []
  }
 ],
 "metadata": {
  "kernelspec": {
   "display_name": "Python 3 (ipykernel)",
   "language": "python",
   "name": "python3"
  },
  "language_info": {
   "codemirror_mode": {
    "name": "ipython",
    "version": 3
   },
   "file_extension": ".py",
   "mimetype": "text/x-python",
   "name": "python",
   "nbconvert_exporter": "python",
   "pygments_lexer": "ipython3",
   "version": "3.11.4"
  }
 },
 "nbformat": 4,
 "nbformat_minor": 5
}
